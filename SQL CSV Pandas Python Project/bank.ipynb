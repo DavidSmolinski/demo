{
 "cells": [
  {
   "cell_type": "markdown",
   "metadata": {},
   "source": [
    "# Bank Dataset Project by David Smolinski\n",
    "What this adds to my portfolio:\n",
    "- common sql\n",
    "- csv to pandas\n",
    "- pandas to sql\n",
    "- sql to pandas\n",
    "\n",
    "Links:\n",
    "- [my portfolio](https://github.com/DavidSmolinski/portfolio)\n",
    "- [UC Irvine Machine Learning Repository](https://archive.ics.uci.edu/ml/datasets/Bank+Marketing)\n",
    "- [the csv](https://archive.ics.uci.edu/ml/machine-learning-databases/00222/bank.zip)"
   ]
  },
  {
   "cell_type": "code",
   "execution_count": 12,
   "metadata": {},
   "outputs": [
    {
     "name": "stdout",
     "output_type": "stream",
     "text": [
      "   age         job  marital education default  balance housing loan   contact  \\\n",
      "0   30  unemployed  married   primary      no     1787      no   no  cellular   \n",
      "\n",
      "   day month  duration  campaign  pdays  previous poutcome   y  \n",
      "0   19   oct        79         1     -1         0  unknown  no  \n"
     ]
    }
   ],
   "source": [
    "import sqlite3, numpy as np, requests, pandas as pd\n",
    "from io import BytesIO\n",
    "from zipfile import ZipFile\n",
    "\n",
    "# get the csv in the zipped folder at the url\n",
    "zip_folder_url=\"https://archive.ics.uci.edu/ml/machine-learning-databases/00222/bank.zip\"\n",
    "response = requests.get(zip_folder_url)\n",
    "with ZipFile(BytesIO(response.content)) as z:\n",
    "    with z.open('bank.csv') as csv:\n",
    "        df = pd.read_csv(csv, delimiter=';')\n",
    "\n",
    "print(df.head(1))"
   ]
  },
  {
   "cell_type": "markdown",
   "metadata": {},
   "source": [
    "The next cell makes the database in RAM, and connects to it. To make or connect to a db file, use: \n",
    "connection = sqlite3.connect('path.db')"
   ]
  },
  {
   "cell_type": "code",
   "execution_count": 13,
   "metadata": {},
   "outputs": [],
   "source": [
    "connection = sqlite3.connect(\":memory:\")"
   ]
  },
  {
   "cell_type": "markdown",
   "metadata": {},
   "source": [
    "Method 1 of putting the dataframe (df) into the database (db):"
   ]
  },
  {
   "cell_type": "code",
   "execution_count": 14,
   "metadata": {},
   "outputs": [],
   "source": [
    "df.to_sql('clients', connection)"
   ]
  },
  {
   "cell_type": "markdown",
   "metadata": {},
   "source": [
    "Method 2 of putting the dataframe into the database:"
   ]
  },
  {
   "cell_type": "code",
   "execution_count": 15,
   "metadata": {},
   "outputs": [],
   "source": [
    "c = connection.cursor()\n",
    "\n",
    "c.execute(\"\"\"CREATE TABLE IF NOT EXISTS clients (\n",
    "             \"index\" SMALLINT PRIMARY KEY,\n",
    "             age TINYINT,\n",
    "             job VARCHAR(15),\n",
    "             marital VARCHAR(10),\n",
    "             education VARCHAR(10),\n",
    "             \"default\" VARCHAR(3),\n",
    "             balance BIGINT,\n",
    "             housing VARCHAR(3),\n",
    "             loan VARCHAR(3),\n",
    "             contact VARCHAR(10),\n",
    "             day TINYINT,\n",
    "             month VARCHAR(3),\n",
    "             duration SMALLINT,\n",
    "             campaign TINYINT,\n",
    "             pdays SMALLINT,\n",
    "             previous TINYINT,\n",
    "             poutcome VARCHAR(10),\n",
    "             y VARCHAR(3)\n",
    "             )\"\"\")\n",
    "\n",
    "\n",
    "for row in range(len(df)):\n",
    "    row_tuple = (row,)\n",
    "    for col in range(len(df.columns)):\n",
    "        val = df.iloc[row, col]\n",
    "        if isinstance(val, np.int64):\n",
    "            val = int(val)\n",
    "        row_tuple += (val,)\n",
    "    with connection:\n",
    "        c.execute(\n",
    "            \"\"\"INSERT INTO clients (\"index\", age, job, marital, education, \"default\", balance, housing, loan, contact, day, \n",
    "            month, duration, campaign, pdays, previous, poutcome, y) VALUES \n",
    "            (?, ?, ?, ?, ?, ?, ?, ?, ?, ?, ?, ?, ?, ?, ?, ?, ?, ?)\"\"\",\n",
    "            row_tuple)"
   ]
  },
  {
   "cell_type": "markdown",
   "metadata": {},
   "source": [
    "querying the database:"
   ]
  },
  {
   "cell_type": "code",
   "execution_count": 16,
   "metadata": {},
   "outputs": [
    {
     "name": "stdout",
     "output_type": "stream",
     "text": [
      "\n",
      "\n",
      "column names\n",
      "['index', 'age', 'job', 'marital', 'education', 'default', 'balance', 'housing', 'loan', 'contact', 'day', 'month', 'duration', 'campaign', 'pdays', 'previous', 'poutcome', 'y']\n",
      "\n",
      "\n",
      "query 1:\n",
      "\n",
      "sql:\n",
      "SELECT * FROM clients WHERE \"index\" < 40 ORDER BY age, balance ASC LIMIT 5\n",
      "\n",
      "result:\n",
      "[(13, 20, 'student', 'single', 'secondary', 'no', 502, 'no', 'no', 'cellular', 30, 'apr', 261, 1, -1, 0, 'unknown', 'yes'), (13, 20, 'student', 'single', 'secondary', 'no', 502, 'no', 'no', 'cellular', 30, 'apr', 261, 1, -1, 0, 'unknown', 'yes'), (39, 23, 'services', 'single', 'tertiary', 'no', 363, 'yes', 'no', 'unknown', 30, 'may', 16, 18, -1, 0, 'unknown', 'no'), (39, 23, 'services', 'single', 'tertiary', 'no', 363, 'yes', 'no', 'unknown', 30, 'may', 16, 18, -1, 0, 'unknown', 'no'), (18, 25, 'blue-collar', 'single', 'primary', 'no', -221, 'yes', 'no', 'unknown', 23, 'may', 250, 1, -1, 0, 'unknown', 'no')]\n",
      "\n",
      "\n",
      "query 2:\n",
      "\n",
      "sql:\n",
      "SELECT education AS ed, balance FROM clients \n",
      "              WHERE job IN('housemaid', 'entrepreneur', 'student') AND balance between 500 AND 2000\n",
      "\n",
      "result:\n",
      "[('secondary', 502), ('tertiary', 543), ('tertiary', 624), ('secondary', 872), ('secondary', 593), ('secondary', 687), ('secondary', 780), ('secondary', 946), ('secondary', 665), ('unknown', 1034), ('tertiary', 890), ('primary', 1034), ('tertiary', 1161), ('secondary', 1790), ('tertiary', 810), ('unknown', 1281), ('tertiary', 1957), ('primary', 976), ('tertiary', 595), ('tertiary', 1790), ('primary', 768), ('secondary', 725), ('primary', 501), ('primary', 517), ('unknown', 549), ('tertiary', 1467), ('secondary', 868), ('secondary', 653), ('secondary', 1116), ('secondary', 1021), ('primary', 1238), ('tertiary', 1544), ('tertiary', 1562), ('secondary', 1191), ('primary', 889), ('tertiary', 1729), ('secondary', 757), ('tertiary', 1410), ('secondary', 1566), ('primary', 668), ('primary', 1832), ('secondary', 508), ('tertiary', 1265), ('secondary', 671), ('secondary', 822), ('secondary', 1924), ('secondary', 681), ('tertiary', 1169), ('primary', 592), ('secondary', 654), ('secondary', 565), ('tertiary', 807), ('unknown', 1387), ('tertiary', 1273), ('secondary', 1011), ('unknown', 575), ('secondary', 1532), ('secondary', 1327), ('tertiary', 1574), ('primary', 848), ('secondary', 1694), ('tertiary', 836), ('tertiary', 691), ('tertiary', 1514), ('tertiary', 1433), ('secondary', 806), ('tertiary', 1922), ('secondary', 1916), ('unknown', 1169), ('primary', 795), ('secondary', 1309), ('secondary', 1847), ('secondary', 1416), ('secondary', 1040), ('secondary', 1249), ('secondary', 1847), ('unknown', 1956), ('secondary', 1588), ('secondary', 538), ('secondary', 638), ('tertiary', 868), ('primary', 563), ('secondary', 1121), ('tertiary', 1136), ('secondary', 502), ('tertiary', 543), ('tertiary', 624), ('secondary', 872), ('secondary', 593), ('secondary', 687), ('secondary', 780), ('secondary', 946), ('secondary', 665), ('unknown', 1034), ('tertiary', 890), ('primary', 1034), ('tertiary', 1161), ('secondary', 1790), ('tertiary', 810), ('unknown', 1281), ('tertiary', 1957), ('primary', 976), ('tertiary', 595), ('tertiary', 1790), ('primary', 768), ('secondary', 725), ('primary', 501), ('primary', 517), ('unknown', 549), ('tertiary', 1467), ('secondary', 868), ('secondary', 653), ('secondary', 1116), ('secondary', 1021), ('primary', 1238), ('tertiary', 1544), ('tertiary', 1562), ('secondary', 1191), ('primary', 889), ('tertiary', 1729), ('secondary', 757), ('tertiary', 1410), ('secondary', 1566), ('primary', 668), ('primary', 1832), ('secondary', 508), ('tertiary', 1265), ('secondary', 671), ('secondary', 822), ('secondary', 1924), ('secondary', 681), ('tertiary', 1169), ('primary', 592), ('secondary', 654), ('secondary', 565), ('tertiary', 807), ('unknown', 1387), ('tertiary', 1273), ('secondary', 1011), ('unknown', 575), ('secondary', 1532), ('secondary', 1327), ('tertiary', 1574), ('primary', 848), ('secondary', 1694), ('tertiary', 836), ('tertiary', 691), ('tertiary', 1514), ('tertiary', 1433), ('secondary', 806), ('tertiary', 1922), ('secondary', 1916), ('unknown', 1169), ('primary', 795), ('secondary', 1309), ('secondary', 1847), ('secondary', 1416), ('secondary', 1040), ('secondary', 1249), ('secondary', 1847), ('unknown', 1956), ('secondary', 1588), ('secondary', 538), ('secondary', 638), ('tertiary', 868), ('primary', 563), ('secondary', 1121), ('tertiary', 1136)]\n",
      "\n",
      "\n",
      "query 3:\n",
      "\n",
      "sql:\n",
      "SELECT job, SUM(balance) FROM clients GROUP BY job\n",
      "\n",
      "result:\n",
      "[('admin.', 1172760), ('blue-collar', 2053126), ('entrepreneur', 552762), ('housemaid', 466772), ('management', 3424308), ('retired', 1066828), ('self-employed', 509622), ('services', 920700), ('student', 259362), ('technician', 2044410), ('unemployed', 278892), ('unknown', 114130)]\n",
      "\n",
      "\n",
      "query 4:\n",
      "\n",
      "sql:\n",
      "SELECT DISTINCT education FROM clients WHERE education LIKE '%r%a_y'\n",
      "\n",
      "result:\n",
      "[('primary',), ('tertiary',)]\n",
      "\n",
      "\n",
      "query 5:\n",
      "\n",
      "sql:\n",
      "SELECT DISTINCT age FROM clients WHERE education =\n",
      "              (SELECT DISTINCT education FROM clients WHERE balance >30000)\n",
      "\n",
      "result:\n",
      "[(35,), (30,), (36,), (41,), (40,), (37,), (42,), (26,), (32,), (49,), (23,), (38,), (34,), (33,), (48,), (31,), (54,), (58,), (46,), (51,), (77,), (52,), (28,), (39,), (29,), (45,), (53,), (50,), (44,), (59,), (47,), (43,), (25,), (60,), (56,), (57,), (75,), (55,), (66,), (27,), (22,), (71,), (64,), (61,), (24,), (70,), (78,), (69,), (62,), (63,), (67,)]\n",
      "\n",
      "\n",
      "query 6:\n",
      "\n",
      "sql:\n",
      "SELECT DISTINCT age FROM clients WHERE education =\n",
      "              (SELECT DISTINCT education FROM clients WHERE balance >30000)\n",
      "\n",
      "result:\n",
      "[(35,), (30,), (36,), (41,), (40,), (37,), (42,), (26,), (32,), (49,), (23,), (38,), (34,), (33,), (48,), (31,), (54,), (58,), (46,), (51,), (77,), (52,), (28,), (39,), (29,), (45,), (53,), (50,), (44,), (59,), (47,), (43,), (25,), (60,), (56,), (57,), (75,), (55,), (66,), (27,), (22,), (71,), (64,), (61,), (24,), (70,), (78,), (69,), (62,), (63,), (67,)]\n"
     ]
    }
   ],
   "source": [
    "query_number = 1\n",
    "\n",
    "\n",
    "def print_column_names(connection, table):\n",
    "    c = connection.cursor()\n",
    "    c.execute(\"\"\"PRAGMA table_info(\"\"\" + table + \")\")\n",
    "    table_info = c.fetchall()\n",
    "    column_names = [e[1] for e in table_info]\n",
    "    print(f\"\\n\\ncolumn names\\n{column_names}\")\n",
    "\n",
    "\n",
    "def query(connection, query_number, sql_code):\n",
    "    c = connection.cursor()\n",
    "    c.execute(sql_code)\n",
    "    print(f\"\\n\\nquery {query_number}:\\n\\nsql:\\n{sql_code}\\n\\nresult:\\n{c.fetchall()}\")\n",
    "    query_number += 1\n",
    "    return query_number\n",
    "\n",
    "\n",
    "print_column_names(connection, \"clients\")\n",
    "\n",
    "sql_code = \"\"\"SELECT * FROM clients WHERE \"index\" < 40 ORDER BY age, balance ASC LIMIT 5\"\"\"\n",
    "query_number = query(connection=connection, query_number=query_number, sql_code=sql_code)\n",
    "\n",
    "sql_code = \"\"\"SELECT education AS ed, balance FROM clients \n",
    "              WHERE job IN('housemaid', 'entrepreneur', 'student') AND balance between 500 AND 2000\"\"\"\n",
    "query_number = query(connection, query_number, sql_code)\n",
    "\n",
    "sql_code = \"\"\"SELECT job, SUM(balance) FROM clients GROUP BY job\"\"\"\n",
    "query_number = query(connection, query_number, sql_code)\n",
    "\n",
    "sql_code = \"\"\"SELECT DISTINCT education FROM clients WHERE education LIKE '%r%a_y'\"\"\"\n",
    "query_number = query(connection, query_number, sql_code)\n",
    "\n",
    "sql_code = \"\"\"SELECT DISTINCT age FROM clients WHERE education =\n",
    "              (SELECT DISTINCT education FROM clients WHERE balance >30000)\"\"\"\n",
    "query_number = query(connection, query_number, sql_code)\n",
    "\n",
    "sql_code = \"\"\"SELECT DISTINCT age FROM clients WHERE education =\n",
    "              (SELECT DISTINCT education FROM clients WHERE balance >30000)\"\"\"\n",
    "query_number = query(connection, query_number, sql_code)"
   ]
  },
  {
   "cell_type": "markdown",
   "metadata": {},
   "source": [
    "making a dataframe from the database:"
   ]
  },
  {
   "cell_type": "code",
   "execution_count": 17,
   "metadata": {},
   "outputs": [
    {
     "name": "stdout",
     "output_type": "stream",
     "text": [
      "   index  age         job  marital  education default  balance housing loan  \\\n",
      "0      0   30  unemployed  married    primary      no     1787      no   no   \n",
      "1      1   33    services  married  secondary      no     4789     yes  yes   \n",
      "2      2   35  management   single   tertiary      no     1350     yes   no   \n",
      "\n",
      "    contact  day month  duration  campaign  pdays  previous poutcome   y  \n",
      "0  cellular   19   oct        79         1     -1         0  unknown  no  \n",
      "1  cellular   11   may       220         1    339         4  failure  no  \n",
      "2  cellular   16   apr       185         1    330         1  failure  no  \n"
     ]
    }
   ],
   "source": [
    "sql = \"SELECT * FROM clients\"\n",
    "df = pd.read_sql(sql, connection)\n",
    "print(df.head(3))"
   ]
  },
  {
   "cell_type": "code",
   "execution_count": 18,
   "metadata": {},
   "outputs": [],
   "source": [
    "connection.close()"
   ]
  },
  {
   "cell_type": "markdown",
   "metadata": {},
   "source": [
    "dataset citations:\n",
    "\n",
    "[Moro et al., 2011] S. Moro, R. Laureano and P. Cortez. Using Data Mining for Bank Direct Marketing: An Application of the CRISP-DM Methodology. \n",
    "  In P. Novais et al. (Eds.), Proceedings of the European Simulation and Modelling Conference - ESM'2011, pp. 117-121, Guimarães, Portugal, October, 2011. EUROSIS.\n",
    "\n",
    "  Available at: [pdf] http://hdl.handle.net/1822/14838\n",
    "                [bib] http://www3.dsi.uminho.pt/pcortez/bib/2011-esm-1.txt"
   ]
  }
 ],
 "metadata": {
  "kernelspec": {
   "display_name": "Python 3",
   "language": "python",
   "name": "python3"
  },
  "language_info": {
   "codemirror_mode": {
    "name": "ipython",
    "version": 3
   },
   "file_extension": ".py",
   "mimetype": "text/x-python",
   "name": "python",
   "nbconvert_exporter": "python",
   "pygments_lexer": "ipython3",
   "version": "3.7.3"
  }
 },
 "nbformat": 4,
 "nbformat_minor": 2
}
