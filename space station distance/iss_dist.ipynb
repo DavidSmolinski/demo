{
 "cells": [
  {
   "cell_type": "markdown",
   "metadata": {},
   "source": [
    "# International Space Station (ISS) Distance by David Smolinski\n",
    "What this adds to my portfolio:\n",
    "- web scraping\n",
    "- class method\n",
    "- decorator\n",
    "- json API\n",
    "\n",
    "The program's function: \n",
    "\n",
    "Excluding vertical distance, find the distance between the ISS and you. Accuracy is low because finding your IP address location is inaccurate.\n",
    "\n",
    "Links:\n",
    "- [my portfolio](https://github.com/DavidSmolinski/portfolio)"
   ]
  },
  {
   "cell_type": "code",
   "execution_count": 4,
   "metadata": {},
   "outputs": [
    {
     "name": "stdout",
     "output_type": "stream",
     "text": [
      "Collecting geocoder\n",
      "  Using cached https://files.pythonhosted.org/packages/4f/6b/13166c909ad2f2d76b929a4227c952630ebaf0d729f6317eb09cbceccbab/geocoder-1.38.1-py2.py3-none-any.whl\n",
      "Requirement already satisfied: requests in c:\\users\\barbara\\anaconda3\\lib\\site-packages (from geocoder) (2.22.0)\n",
      "Requirement already satisfied: click in c:\\users\\barbara\\anaconda3\\lib\\site-packages (from geocoder) (7.0)\n",
      "Collecting ratelim (from geocoder)\n",
      "  Using cached https://files.pythonhosted.org/packages/f2/98/7e6d147fd16a10a5f821db6e25f192265d6ecca3d82957a4fdd592cad49c/ratelim-0.1.6-py2.py3-none-any.whl\n",
      "Requirement already satisfied: future in c:\\users\\barbara\\anaconda3\\lib\\site-packages (from geocoder) (0.17.1)\n",
      "Requirement already satisfied: six in c:\\users\\barbara\\anaconda3\\lib\\site-packages (from geocoder) (1.12.0)\n",
      "Requirement already satisfied: chardet<3.1.0,>=3.0.2 in c:\\users\\barbara\\anaconda3\\lib\\site-packages (from requests->geocoder) (3.0.4)\n",
      "Requirement already satisfied: certifi>=2017.4.17 in c:\\users\\barbara\\anaconda3\\lib\\site-packages (from requests->geocoder) (2019.6.16)\n",
      "Requirement already satisfied: urllib3!=1.25.0,!=1.25.1,<1.26,>=1.21.1 in c:\\users\\barbara\\anaconda3\\lib\\site-packages (from requests->geocoder) (1.24.2)\n",
      "Requirement already satisfied: idna<2.9,>=2.5 in c:\\users\\barbara\\anaconda3\\lib\\site-packages (from requests->geocoder) (2.8)\n",
      "Requirement already satisfied: decorator in c:\\users\\barbara\\anaconda3\\lib\\site-packages (from ratelim->geocoder) (4.4.0)\n",
      "Installing collected packages: ratelim, geocoder\n",
      "Successfully installed geocoder-1.38.1 ratelim-0.1.6\n",
      "Collecting geopy\n",
      "  Using cached https://files.pythonhosted.org/packages/80/93/d384479da0ead712bdaf697a8399c13a9a89bd856ada5a27d462fb45e47b/geopy-1.20.0-py2.py3-none-any.whl\n",
      "Collecting geographiclib<2,>=1.49 (from geopy)\n",
      "  Using cached https://files.pythonhosted.org/packages/5b/ac/4f348828091490d77899bc74e92238e2b55c59392f21948f296e94e50e2b/geographiclib-1.49.tar.gz\n",
      "Building wheels for collected packages: geographiclib\n",
      "  Building wheel for geographiclib (setup.py): started\n",
      "  Building wheel for geographiclib (setup.py): finished with status 'done'\n",
      "  Stored in directory: C:\\Users\\barbara\\AppData\\Local\\pip\\Cache\\wheels\\99\\45\\d1\\14954797e2a976083182c2e7da9b4e924509e59b6e5c661061\n",
      "Successfully built geographiclib\n",
      "Installing collected packages: geographiclib, geopy\n",
      "Successfully installed geographiclib-1.49 geopy-1.20.0\n"
     ]
    }
   ],
   "source": [
    "# Install a conda package in the current Jupyter kernel\n",
    "import sys\n",
    "# !conda install --yes --prefix {sys.prefix} geopy\n",
    "# !conda install --yes --prefix {sys.prefix} geocoder\n",
    "\n",
    "!{sys.executable} -m pip install geocoder\n",
    "!{sys.executable} -m pip install geopy"
   ]
  },
  {
   "cell_type": "code",
   "execution_count": 8,
   "metadata": {},
   "outputs": [],
   "source": [
    "import requests\n",
    "import geocoder\n",
    "from geopy.distance import distance\n",
    "from collections import namedtuple"
   ]
  },
  {
   "cell_type": "code",
   "execution_count": 9,
   "metadata": {},
   "outputs": [],
   "source": [
    "\n",
    "\n",
    "\n",
    "class Coordinates:\n",
    "    \"\"\"Get geospatial coordinates. Functions return\n",
    "    CoordinatesNT (a namedtuple the named tuple of (latitude, longitude)).\n",
    "    \"\"\"\n",
    "    CoordinatesNT = namedtuple('CoordinatesNT', 'latitude, longitude')\n",
    "\n",
    "    @classmethod\n",
    "    def iss(cls):\n",
    "        \"\"\"International Space Stataion\"\"\"\n",
    "        url = 'http://api.open-notify.org/iss-now.json'\n",
    "        r = requests.get(url)\n",
    "        json_dic = r.json()\n",
    "        coord_dic = json_dic['iss_position']\n",
    "        coord_tuple = coord_dic['latitude'], coord_dic['longitude']\n",
    "        return cls.CoordinatesNT(*[float(e) for e in coord_tuple])\n",
    "\n",
    "    @classmethod\n",
    "    def ip(cls):\n",
    "        \"\"\"your IP address location\"\"\"\n",
    "        g = geocoder.ip('me')\n",
    "        return cls.CoordinatesNT(*g.latlng)\n"
   ]
  },
  {
   "cell_type": "code",
   "execution_count": 10,
   "metadata": {},
   "outputs": [
    {
     "name": "stdout",
     "output_type": "stream",
     "text": [
      "Excluding vertical distance, the Int. Space Station is this far from you:\n",
      "8,272.64 km 5,140.38 mi\n"
     ]
    }
   ],
   "source": [
    "dist = distance(Coordinates.ip(), Coordinates.iss())\n",
    "km = dist.km\n",
    "mi = dist.mi\n",
    "print(f'Excluding vertical distance, the Int. Space Station is this far from you:\\n{km:,.2f} km {mi:,.2f} mi')"
   ]
  },
  {
   "cell_type": "code",
   "execution_count": null,
   "metadata": {},
   "outputs": [],
   "source": []
  }
 ],
 "metadata": {
  "kernelspec": {
   "display_name": "Python 3",
   "language": "python",
   "name": "python3"
  },
  "language_info": {
   "codemirror_mode": {
    "name": "ipython",
    "version": 3
   },
   "file_extension": ".py",
   "mimetype": "text/x-python",
   "name": "python",
   "nbconvert_exporter": "python",
   "pygments_lexer": "ipython3",
   "version": "3.7.3"
  }
 },
 "nbformat": 4,
 "nbformat_minor": 2
}
