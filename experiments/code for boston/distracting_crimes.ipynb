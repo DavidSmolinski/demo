{
 "cells": [
  {
   "cell_type": "markdown",
   "metadata": {},
   "source": [
    "# Distracting Crimes in Boston\n",
    "\n",
    "If you are studying in Boston, will you get distracted?\n",
    "\n",
    "Other people's code:\n",
    "\n",
    "From Ben Batorsky (bpben): [github](https://github.com/filipemir/police-incident-dashboard/blob/master/make_geojson.ipynb)\n",
    "- the contents of function \"sql_to_df\"\n",
    "- the sql query in variable \"sql\"\n",
    "\n",
    "Links:\n",
    "- [my portfolio](github.com/DavidSmolinski/portfolio/tree/master/table%20of%20contents)"
   ]
  },
  {
   "cell_type": "code",
   "execution_count": 1,
   "metadata": {},
   "outputs": [],
   "source": [
    "%matplotlib inline\n",
    "import pandas as pd\n",
    "from matplotlib import pyplot as plt\n",
    "import json\n",
    "import requests\n",
    "\n",
    "\n",
    "def sql_to_df(sql):\n",
    "    # Ben's code start\n",
    "    r = requests.get(f'https://data.boston.gov/api/3/action/datastore_search_sql?sql={sql}')\n",
    "    j = r.json()['result']\n",
    "    df = pd.DataFrame(j['records'],\n",
    "                      columns=[x['id'] for x in j['fields']])\n",
    "    # Ben's code end\n",
    "    return df\n",
    "\n",
    "\n",
    "year = '2019'\n",
    "# Ben's code start\n",
    "sql = f'SELECT * from \"12cb3883-56f5-47de-afa5-3b1cf61b257b\" WHERE \"YEAR\" = \\'{year}\\''\n",
    "# Ben's code end"
   ]
  },
  {
   "cell_type": "code",
   "execution_count": 2,
   "metadata": {},
   "outputs": [],
   "source": [
    "pd.set_option('display.max_columns', None)\n",
    "pd.set_option('display.max_rows', 30)"
   ]
  },
  {
   "cell_type": "code",
   "execution_count": 3,
   "metadata": {},
   "outputs": [
    {
     "data": {
      "text/html": [
       "<div>\n",
       "<style scoped>\n",
       "    .dataframe tbody tr th:only-of-type {\n",
       "        vertical-align: middle;\n",
       "    }\n",
       "\n",
       "    .dataframe tbody tr th {\n",
       "        vertical-align: top;\n",
       "    }\n",
       "\n",
       "    .dataframe thead th {\n",
       "        text-align: right;\n",
       "    }\n",
       "</style>\n",
       "<table border=\"1\" class=\"dataframe\">\n",
       "  <thead>\n",
       "    <tr style=\"text-align: right;\">\n",
       "      <th></th>\n",
       "      <th>_id</th>\n",
       "      <th>_full_text</th>\n",
       "      <th>INCIDENT_NUMBER</th>\n",
       "      <th>OFFENSE_CODE</th>\n",
       "      <th>OFFENSE_CODE_GROUP</th>\n",
       "      <th>OFFENSE_DESCRIPTION</th>\n",
       "      <th>DISTRICT</th>\n",
       "      <th>REPORTING_AREA</th>\n",
       "      <th>SHOOTING</th>\n",
       "      <th>OCCURRED_ON_DATE</th>\n",
       "      <th>YEAR</th>\n",
       "      <th>MONTH</th>\n",
       "      <th>DAY_OF_WEEK</th>\n",
       "      <th>HOUR</th>\n",
       "      <th>UCR_PART</th>\n",
       "      <th>STREET</th>\n",
       "      <th>Lat</th>\n",
       "      <th>Long</th>\n",
       "      <th>Location</th>\n",
       "    </tr>\n",
       "  </thead>\n",
       "  <tbody>\n",
       "    <tr>\n",
       "      <th>0</th>\n",
       "      <td>1</td>\n",
       "      <td>'-09':10 '-29':11 '-71.09246318':24,26 '00':14...</td>\n",
       "      <td>I192078648</td>\n",
       "      <td>03114</td>\n",
       "      <td>Investigate Property</td>\n",
       "      <td>INVESTIGATE PROPERTY</td>\n",
       "      <td>B3</td>\n",
       "      <td>427</td>\n",
       "      <td>None</td>\n",
       "      <td>2019-09-29 06:39:00</td>\n",
       "      <td>2019</td>\n",
       "      <td>9</td>\n",
       "      <td>Sunday</td>\n",
       "      <td>6</td>\n",
       "      <td>Part Three</td>\n",
       "      <td>WILMORE ST</td>\n",
       "      <td>42.2779637</td>\n",
       "      <td>-71.09246318</td>\n",
       "      <td>(42.27796370, -71.09246318)</td>\n",
       "    </tr>\n",
       "  </tbody>\n",
       "</table>\n",
       "</div>"
      ],
      "text/plain": [
       "   _id                                         _full_text INCIDENT_NUMBER  \\\n",
       "0    1  '-09':10 '-29':11 '-71.09246318':24,26 '00':14...      I192078648   \n",
       "\n",
       "  OFFENSE_CODE    OFFENSE_CODE_GROUP   OFFENSE_DESCRIPTION DISTRICT  \\\n",
       "0        03114  Investigate Property  INVESTIGATE PROPERTY       B3   \n",
       "\n",
       "  REPORTING_AREA SHOOTING     OCCURRED_ON_DATE  YEAR MONTH DAY_OF_WEEK HOUR  \\\n",
       "0            427     None  2019-09-29 06:39:00  2019     9      Sunday    6   \n",
       "\n",
       "     UCR_PART      STREET         Lat          Long  \\\n",
       "0  Part Three  WILMORE ST  42.2779637  -71.09246318   \n",
       "\n",
       "                      Location  \n",
       "0  (42.27796370, -71.09246318)  "
      ]
     },
     "execution_count": 3,
     "metadata": {},
     "output_type": "execute_result"
    }
   ],
   "source": [
    "df = sql_to_df(sql)\n",
    "df.head(1)"
   ]
  },
  {
   "cell_type": "code",
   "execution_count": 5,
   "metadata": {},
   "outputs": [
    {
     "data": {
      "image/png": "[encoded data removed]",
      "text/plain": [
       "<Figure size 432x288 with 1 Axes>"
      ]
     },
     "metadata": {
      "needs_background": "light"
     },
     "output_type": "display_data"
    }
   ],
   "source": [
    "district = 'B3'\n",
    "distractions = ['Aircraft', 'Assembly or Gathering Violations', 'Disorderly Conduct',\n",
    "                'Explosives', 'Fire Related Reports', 'HOME INVASION']\n",
    "df[(df.DISTRICT == district) & (df.OFFENSE_CODE_GROUP.isin(distractions))][\n",
    "    'OFFENSE_CODE_GROUP'].value_counts().plot(kind='bar')\n",
    "plt.title(f'Extra distracting Boston crime incidents in district {district} in {year}')\n",
    "plt.ylabel('num. of incidents')\n",
    "plt.xlabel('distraction incident')\n",
    "plt.ylabel('num. of incidents')\n",
    "plt.show()"
   ]
  },
  {
   "cell_type": "code",
   "execution_count": 6,
   "metadata": {},
   "outputs": [
    {
     "data": {
      "text/plain": [
       "OFFENSE_CODE_GROUP                OFFENSE_DESCRIPTION                                       \n",
       "Aggravated Assault                ASSAULT - AGGRAVATED                                           323\n",
       "                                  ASSAULT - AGGRAVATED - BATTERY                                 574\n",
       "Aircraft                          AIRCRAFT INCIDENTS                                               8\n",
       "Arson                             ARSON                                                            6\n",
       "Assembly or Gathering Violations  DEMONSTRATIONS/RIOT                                             20\n",
       "                                  NOISY PARTY/RADIO-ARREST                                         1\n",
       "                                  NOISY PARTY/RADIO-NO ARREST                                     31\n",
       "Auto Theft                        AUTO THEFT                                                     329\n",
       "                                  AUTO THEFT - LEASED/RENTED VEHICLE                              44\n",
       "                                  AUTO THEFT - MOTORCYCLE / SCOOTER                              146\n",
       "Auto Theft Recovery               RECOVERED - MV RECOVERED IN BOSTON (STOLEN OUTSIDE BOSTON)      97\n",
       "Ballistics                        BALLISTICS EVIDENCE/FOUND                                      143\n",
       "Biological Threat                 BIOLOGICAL THREATS                                               1\n",
       "Bomb Hoax                         BOMB THREAT                                                      2\n",
       "Commercial Burglary               BURGLARY - COMMERICAL - ATTEMPT                                 14\n",
       "                                                                                                ... \n",
       "Robbery                           ROBBERY - STREET                                               286\n",
       "Search Warrants                   SEARCH WARRANT                                                  67\n",
       "Service                           ANIMAL INCIDENTS                                                44\n",
       "Simple Assault                    ASSAULT - SIMPLE                                               120\n",
       "                                  ASSAULT SIMPLE - BATTERY                                      1555\n",
       "                                  STALKING                                                         3\n",
       "Towed                             TOWED MOTOR VEHICLE                                           1086\n",
       "Vandalism                         GRAFFITI                                                        41\n",
       "                                  VANDALISM                                                     1455\n",
       "Verbal Disputes                   VERBAL DISPUTE                                                1415\n",
       "Violations                        VAL - OPERATING AFTER REV/SUSP.                                272\n",
       "                                  VAL - OPERATING UNREG/UNINS CAR                                102\n",
       "                                  VAL - OPERATING W/O AUTHORIZATION LAWFUL                        34\n",
       "                                  VAL - OPERATING WITHOUT LICENSE                                210\n",
       "Warrant Arrests                   WARRANT ARREST                                                 436\n",
       "Name: OFFENSE_DESCRIPTION, Length: 174, dtype: int64"
      ]
     },
     "execution_count": 6,
     "metadata": {},
     "output_type": "execute_result"
    }
   ],
   "source": [
    "# all values of OFFENSE_CODE_GROUP and OFFENSE_DESCRIPTION and their total for the year\n",
    "df.groupby(['OFFENSE_CODE_GROUP','OFFENSE_DESCRIPTION']).OFFENSE_DESCRIPTION.count()"
   ]
  },
  {
   "cell_type": "code",
   "execution_count": null,
   "metadata": {},
   "outputs": [],
   "source": []
  }
 ],
 "metadata": {
  "kernelspec": {
   "display_name": "Python 3",
   "language": "python",
   "name": "python3"
  },
  "language_info": {
   "codemirror_mode": {
    "name": "ipython",
    "version": 3
   },
   "file_extension": ".py",
   "mimetype": "text/x-python",
   "name": "python",
   "nbconvert_exporter": "python",
   "pygments_lexer": "ipython3",
   "version": "3.7.3"
  }
 },
 "nbformat": 4,
 "nbformat_minor": 2
}
