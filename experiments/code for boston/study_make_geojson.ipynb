{
 "cells": [
  {
   "cell_type": "markdown",
   "metadata": {},
   "source": [
    "# What's going on in Ben's code?\n",
    "\n",
    "I'm exploring code by Ben Batorsky (bpben): [github](https://github.com/filipemir/police-incident-dashboard/blob/master/make_geojson.ipynb)\n",
    "\n",
    "Links:\n",
    "- [my portfolio](github.com/DavidSmolinski/portfolio/tree/master/table%20of%20contents)"
   ]
  },
  {
   "cell_type": "code",
   "execution_count": 58,
   "metadata": {},
   "outputs": [],
   "source": [
    "import re\n",
    "import pandas as pd\n",
    "import json\n",
    "import requests"
   ]
  },
  {
   "cell_type": "code",
   "execution_count": 59,
   "metadata": {},
   "outputs": [],
   "source": [
    "sql = \"\"\"SELECT * from \"12cb3883-56f5-47de-afa5-3b1cf61b257b\" WHERE \"YEAR\" = '2019'\"\"\""
   ]
  },
  {
   "cell_type": "code",
   "execution_count": 60,
   "metadata": {},
   "outputs": [],
   "source": [
    "r = requests.get(f'https://data.boston.gov/api/3/action/datastore_search_sql?sql={sql}')\n",
    "j = r.json()"
   ]
  },
  {
   "cell_type": "code",
   "execution_count": 61,
   "metadata": {},
   "outputs": [],
   "source": [
    "def view_json(j, chars=False):\n",
    "    j_str = json.dumps(j, indent=2)\n",
    "    if chars:\n",
    "        j_str = j_str[0:chars]\n",
    "    print(f'-----\\n{j_str}\\n-----')"
   ]
  },
  {
   "cell_type": "code",
   "execution_count": 62,
   "metadata": {},
   "outputs": [
    {
     "name": "stdout",
     "output_type": "stream",
     "text": [
      "-----\n",
      "{\n",
      "  \"help\": \"https://data.boston.gov/api/3/action/help_show?name=datastore_search_sql\",\n",
      "  \"success\": true,\n",
      "  \"result\": {\n",
      "    \"records_truncated\": true,\n",
      "    \"records\": [\n",
      "      {\n",
      "        \"STREET\": \"GENEVA AVE\",\n",
      "        \"OFFENSE_DESCRIPTION\": \"VERBAL DISPUTE\",\n",
      "        \"SHOOTING\": null,\n",
      "        \"DISTRICT\": \"C11\",\n",
      "        \"OFFENSE_CODE\": \"03301\",\n",
      "        \"REPORTING_AREA\": \"344\",\n",
      "        \"_full_text\": \"'-09':10 '-28':11 '-71.06796465':24,26 '00':14 '03301':2 '08':13 '2019':9,15 '21':12,18 '344':8 '42.30135087':23,25 '9':16 'ave':22 'c11':7 'dispute':6 'disputes':4 'geneva':21 'i192078547':1 'part':19 'saturday':17 'three':20 'verbal':3,5\",\n",
      "        \"OCCURRED_ON_DATE\": \"2019-09-28 21:08:00\",\n",
      "        \"DAY_OF_WEEK\": \"Saturday\",\n",
      "        \"MONTH\": \"9\",\n",
      "        \"HOUR\": \"21\",\n",
      "        \"Long\": \"-71.06796465\",\n",
      "        \"YEAR\": \"2019\",\n",
      "        \"Lat\": \"42.30135087\",\n",
      "        \"INCIDENT_NUMBER\": \"I192078547\",\n",
      "        \"_id\": 1,\n",
      "        \"OFFENSE_CODE_GROUP\": \"Verbal Disputes\",\n",
      "        \"UCR_PART\": \"Part Three\",\n",
      "        \"Location\": \"(42.30135087, -71.06796465)\"\n",
      "      },\n",
      "      {\n",
      "        \"STREET\": \"BREMEN\",\n",
      "        \"OFFENSE_DESCRIPTION\": \"LARCENY THEFT FROM MV - NON-ACCESSORY\",\n",
      "        \"SHOOTING\": null,\n",
      "       \n",
      "-----\n"
     ]
    }
   ],
   "source": [
    "view_json(j, chars=1_200)"
   ]
  },
  {
   "cell_type": "code",
   "execution_count": 63,
   "metadata": {},
   "outputs": [
    {
     "data": {
      "text/plain": [
       "dict_keys(['help', 'success', 'result'])"
      ]
     },
     "execution_count": 63,
     "metadata": {},
     "output_type": "execute_result"
    }
   ],
   "source": [
    "j.keys()"
   ]
  },
  {
   "cell_type": "code",
   "execution_count": 64,
   "metadata": {},
   "outputs": [],
   "source": [
    "j = j['result']"
   ]
  },
  {
   "cell_type": "code",
   "execution_count": 65,
   "metadata": {},
   "outputs": [
    {
     "data": {
      "text/plain": [
       "dict_keys(['records_truncated', 'records', 'fields', 'sql'])"
      ]
     },
     "execution_count": 65,
     "metadata": {},
     "output_type": "execute_result"
    }
   ],
   "source": [
    "j.keys()"
   ]
  },
  {
   "cell_type": "code",
   "execution_count": 66,
   "metadata": {},
   "outputs": [
    {
     "name": "stdout",
     "output_type": "stream",
     "text": [
      "-----\n",
      "\"SELECT * from \\\"12cb3883-56f5-47de-afa5-3b1cf61b257b\\\" WHERE \\\"YEAR\\\" = '2019'\"\n",
      "-----\n"
     ]
    },
    {
     "data": {
      "text/plain": [
       "[{'type': 'int4', 'id': '_id'},\n",
       " {'type': 'tsvector', 'id': '_full_text'},\n",
       " {'type': 'text', 'id': 'INCIDENT_NUMBER'},\n",
       " {'type': 'text', 'id': 'OFFENSE_CODE'},\n",
       " {'type': 'text', 'id': 'OFFENSE_CODE_GROUP'},\n",
       " {'type': 'text', 'id': 'OFFENSE_DESCRIPTION'},\n",
       " {'type': 'text', 'id': 'DISTRICT'},\n",
       " {'type': 'text', 'id': 'REPORTING_AREA'},\n",
       " {'type': 'text', 'id': 'SHOOTING'},\n",
       " {'type': 'text', 'id': 'OCCURRED_ON_DATE'},\n",
       " {'type': 'text', 'id': 'YEAR'},\n",
       " {'type': 'text', 'id': 'MONTH'},\n",
       " {'type': 'text', 'id': 'DAY_OF_WEEK'},\n",
       " {'type': 'text', 'id': 'HOUR'},\n",
       " {'type': 'text', 'id': 'UCR_PART'},\n",
       " {'type': 'text', 'id': 'STREET'},\n",
       " {'type': 'text', 'id': 'Lat'},\n",
       " {'type': 'text', 'id': 'Long'},\n",
       " {'type': 'text', 'id': 'Location'}]"
      ]
     },
     "execution_count": 66,
     "metadata": {},
     "output_type": "execute_result"
    }
   ],
   "source": [
    "view_json(j['sql'])\n",
    "j['fields']"
   ]
  },
  {
   "cell_type": "code",
   "execution_count": 67,
   "metadata": {},
   "outputs": [],
   "source": [
    "df = pd.DataFrame(j['records'],\n",
    "                 columns=[x['id'] for x in j['fields']])"
   ]
  },
  {
   "cell_type": "code",
   "execution_count": 68,
   "metadata": {},
   "outputs": [
    {
     "data": {
      "text/html": [
       "<div>\n",
       "<style scoped>\n",
       "    .dataframe tbody tr th:only-of-type {\n",
       "        vertical-align: middle;\n",
       "    }\n",
       "\n",
       "    .dataframe tbody tr th {\n",
       "        vertical-align: top;\n",
       "    }\n",
       "\n",
       "    .dataframe thead th {\n",
       "        text-align: right;\n",
       "    }\n",
       "</style>\n",
       "<table border=\"1\" class=\"dataframe\">\n",
       "  <thead>\n",
       "    <tr style=\"text-align: right;\">\n",
       "      <th></th>\n",
       "      <th>_id</th>\n",
       "      <th>_full_text</th>\n",
       "      <th>INCIDENT_NUMBER</th>\n",
       "      <th>OFFENSE_CODE</th>\n",
       "      <th>OFFENSE_CODE_GROUP</th>\n",
       "      <th>OFFENSE_DESCRIPTION</th>\n",
       "      <th>DISTRICT</th>\n",
       "      <th>REPORTING_AREA</th>\n",
       "      <th>SHOOTING</th>\n",
       "      <th>OCCURRED_ON_DATE</th>\n",
       "      <th>YEAR</th>\n",
       "      <th>MONTH</th>\n",
       "      <th>DAY_OF_WEEK</th>\n",
       "      <th>HOUR</th>\n",
       "      <th>UCR_PART</th>\n",
       "      <th>STREET</th>\n",
       "      <th>Lat</th>\n",
       "      <th>Long</th>\n",
       "      <th>Location</th>\n",
       "    </tr>\n",
       "  </thead>\n",
       "  <tbody>\n",
       "    <tr>\n",
       "      <th>0</th>\n",
       "      <td>1</td>\n",
       "      <td>'-09':10 '-28':11 '-71.06796465':24,26 '00':14...</td>\n",
       "      <td>I192078547</td>\n",
       "      <td>03301</td>\n",
       "      <td>Verbal Disputes</td>\n",
       "      <td>VERBAL DISPUTE</td>\n",
       "      <td>C11</td>\n",
       "      <td>344</td>\n",
       "      <td>None</td>\n",
       "      <td>2019-09-28 21:08:00</td>\n",
       "      <td>2019</td>\n",
       "      <td>9</td>\n",
       "      <td>Saturday</td>\n",
       "      <td>21</td>\n",
       "      <td>Part Three</td>\n",
       "      <td>GENEVA AVE</td>\n",
       "      <td>42.30135087</td>\n",
       "      <td>-71.06796465</td>\n",
       "      <td>(42.30135087, -71.06796465)</td>\n",
       "    </tr>\n",
       "  </tbody>\n",
       "</table>\n",
       "</div>"
      ],
      "text/plain": [
       "   _id                                         _full_text INCIDENT_NUMBER  \\\n",
       "0    1  '-09':10 '-28':11 '-71.06796465':24,26 '00':14...      I192078547   \n",
       "\n",
       "  OFFENSE_CODE OFFENSE_CODE_GROUP OFFENSE_DESCRIPTION DISTRICT REPORTING_AREA  \\\n",
       "0        03301    Verbal Disputes      VERBAL DISPUTE      C11            344   \n",
       "\n",
       "  SHOOTING     OCCURRED_ON_DATE  YEAR MONTH DAY_OF_WEEK HOUR    UCR_PART  \\\n",
       "0     None  2019-09-28 21:08:00  2019     9    Saturday   21  Part Three   \n",
       "\n",
       "       STREET          Lat          Long                     Location  \n",
       "0  GENEVA AVE  42.30135087  -71.06796465  (42.30135087, -71.06796465)  "
      ]
     },
     "execution_count": 68,
     "metadata": {},
     "output_type": "execute_result"
    }
   ],
   "source": [
    "df.head(1)"
   ]
  },
  {
   "cell_type": "code",
   "execution_count": 69,
   "metadata": {},
   "outputs": [
    {
     "data": {
      "text/plain": [
       "(32000, 19)"
      ]
     },
     "execution_count": 69,
     "metadata": {},
     "output_type": "execute_result"
    }
   ],
   "source": [
    "df.shape"
   ]
  }
 ],
 "metadata": {
  "kernelspec": {
   "display_name": "Python 3",
   "language": "python",
   "name": "python3"
  },
  "language_info": {
   "codemirror_mode": {
    "name": "ipython",
    "version": 3
   },
   "file_extension": ".py",
   "mimetype": "text/x-python",
   "name": "python",
   "nbconvert_exporter": "python",
   "pygments_lexer": "ipython3",
   "version": "3.7.3"
  }
 },
 "nbformat": 4,
 "nbformat_minor": 2
}
