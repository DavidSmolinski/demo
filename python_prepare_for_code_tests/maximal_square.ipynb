{
 "cells": [
  {
   "cell_type": "markdown",
   "metadata": {},
   "source": [
    "# **Maximal Square**\n",
    "#### (by David Smolinski)\n",
    "___\n",
    
    "\n",
    "### **Skills this adds to my portfolio:**\n",
    "- numpy\n",
    "- lambda function\n",
    "___\n",
    "<br>\n",
    "\n",
    "### **The problem (from coderbyte.com):**\n",
    "\"Have the function MaximalSquare(strArr) take the strArr parameter being passed which will be a 2D matrix of 0 and 1's, and determine the area of the largest square submatrix that contains all 1's. A square submatrix is one of equal width and height, and your program should return the area of the largest submatrix that contains only 1's.\"\n",
    "\n",
    "___\n",
    "<br>\n",
    "\n",
    "### **Links:**\n",
    "- [my portfolio](https://github.com/DavidSmolinski/portfolio/tree/master/table%20of%20contents)\n",
    "- [Coderbyte problem](https://www.coderbyte.com/information/Maximal%20Square)\n",
    "- [Linkedin](https://www.linkedin.com/in/davidsmolinski/)\n"
   ]
  },
  {
   "cell_type": "code",
   "execution_count": 1,
   "metadata": {},
   "outputs": [],
   "source": [
    "import numpy as np\n",
    "\n",
    "\n",
    "def coderbyte_array_to_numpy_array(a):\n",
    "    \"\"\"\n",
    "    Arguments:\n",
    "        a {list of str} -- from coderbyte.com\n",
    "\n",
    "    Returns:\n",
    "        np array of bool vals -- \n",
    "    \"\"\"\n",
    "    def str_to_tup(string):\n",
    "        m = map(lambda s: bool(int(s)), string)\n",
    "        return tuple(m)\n",
    "\n",
    "    a = tuple(map(str_to_tup, a))\n",
    "    a = np.array(a, dtype='bool')  # uint8 looks better\n",
    "    return a\n",
    "\n",
    "\n",
    "def square_has_0(top_left_corner, side_length, array):\n",
    "    \"\"\"Search for 0 or False in a square submatrix. Return True if 0 is found, \n",
    "    else False.\n",
    "\n",
    "    Arguments:\n",
    "        top_left_corner {tuple of ints} -- (row, column) for this corner of\n",
    "        the submatrix\n",
    "        side_length {int} -- submatrix side length\n",
    "        array {np array} -- 2d bool array\n",
    "\n",
    "    Returns:\n",
    "        bool -- \n",
    "    \"\"\"\n",
    "    r, c = top_left_corner\n",
    "    matrix = array[r:r+side_length, c:c+side_length]\n",
    "    if 0 in matrix:\n",
    "        return True\n",
    "    else:\n",
    "        return False\n",
    "\n",
    "\n",
    "def MaximalSquare(strArr):\n",
    "    \"\"\"Search \"a\" for the biggest square subarray of only 1 or True values.\n",
    "    Return its area.\n",
    "\n",
    "    Arguments:\n",
    "        a {np array} -- 2d bool array\n",
    "\n",
    "    Returns:\n",
    "        int -- area\n",
    "    \"\"\"\n",
    "    a = coderbyte_array_to_numpy_array(strArr)\n",
    "    a_rows, a_cols = a.shape\n",
    "    side_len = min((a_rows, a_cols))\n",
    "    while side_len > 0:\n",
    "        for r in range(a_rows-side_len+1):\n",
    "            for c in range(a_cols-side_len+1):\n",
    "                if not square_has_0(top_left_corner=(r, c),\n",
    "                                    side_length=side_len, array=a):\n",
    "                    return pow(side_len, 2)\n",
    "        side_len -= 1\n",
    "    return 0"
   ]
  },
  {
   "cell_type": "code",
   "execution_count": 2,
   "metadata": {},
   "outputs": [
    {
     "name": "stdout",
     "output_type": "stream",
     "text": [
      "9\n"
     ]
    }
   ],
   "source": [
    "# a = input()\n",
    "a = [\"0111\", \"1111\", \"1111\", \"1111\"]\n",
    "area = MaximalSquare(a)\n",
    "print(area)"
   ]
  },
  {
   "cell_type": "code",
   "execution_count": null,
   "metadata": {},
   "outputs": [],
   "source": []
  }
 ],
 "metadata": {
  "kernelspec": {
   "display_name": "Python 3",
   "language": "python",
   "name": "python3"
  },
  "language_info": {
   "codemirror_mode": {
    "name": "ipython",
    "version": 3
   },
   "file_extension": ".py",
   "mimetype": "text/x-python",
   "name": "python",
   "nbconvert_exporter": "python",
   "pygments_lexer": "ipython3",
   "version": "3.7.3"
  }
 },
 "nbformat": 4,
 "nbformat_minor": 2
}
