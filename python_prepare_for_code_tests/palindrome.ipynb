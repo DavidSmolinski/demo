{
 "cells": [
  {
   "cell_type": "code",
   "execution_count": 1,
   "metadata": {},
   "outputs": [],
   "source": [
    "# The Palindrome Problem:\n",
    "# Make a function that makes a palindrome out of the letters in a string and\n",
    "# returns -1 if this is not possible. Convert a list of strings with the\n",
    "# function.\n",
    "\n",
    "from collections import defaultdict\n",
    "\n",
    "\n",
    "def palify(string):\n",
    "    \"\"\"If possible, rearrange chars in string to make a palindrome. \n",
    "    Else, return -1.\n",
    "\n",
    "    Arguments:\n",
    "        string {[str]}\n",
    "\n",
    "    Returns:\n",
    "        [str or int] -- [palindrome or -1]\n",
    "    \"\"\"\n",
    "    letter_count = defaultdict(int)\n",
    "    for letter in string:\n",
    "        letter_count[letter] += 1\n",
    "\n",
    "    odds = 0\n",
    "    pal_beginning = ''\n",
    "    pal_mid = ''\n",
    "\n",
    "    for letter, count in letter_count.items():\n",
    "        if count % 2 == 0:\n",
    "            pal_beginning += int(count/2)*letter\n",
    "        else:\n",
    "            pal_mid += letter*count\n",
    "            odds += 1\n",
    "\n",
    "    if odds < 2:\n",
    "        pal = pal_beginning+pal_mid+pal_beginning[::-1]\n",
    "        return pal\n",
    "    else:\n",
    "        return -1"
   ]
  },
  {
   "cell_type": "code",
   "execution_count": 2,
   "metadata": {},
   "outputs": [
    {
     "name": "stdout",
     "output_type": "stream",
     "text": [
      "['edde', -1, 'uiiqiiu']\n"
     ]
    }
   ],
   "source": [
    "not_pals = ('eedd', 'wgerar', 'uiuiqii')\n",
    "pals = [palify(not_pal) for not_pal in not_pals]\n",
    "\n",
    "print(pals)"
   ]
  },
  {
   "cell_type": "code",
   "execution_count": null,
   "metadata": {},
   "outputs": [],
   "source": []
  }
 ],
 "metadata": {
  "kernelspec": {
   "display_name": "Python 3",
   "language": "python",
   "name": "python3"
  },
  "language_info": {
   "codemirror_mode": {
    "name": "ipython",
    "version": 3
   },
   "file_extension": ".py",
   "mimetype": "text/x-python",
   "name": "python",
   "nbconvert_exporter": "python",
   "pygments_lexer": "ipython3",
   "version": "3.7.3"
  }
 },
 "nbformat": 4,
 "nbformat_minor": 2
}
