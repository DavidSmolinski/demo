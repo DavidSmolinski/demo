{
 "cells": [
  {
   "cell_type": "markdown",
   "metadata": {},
   "source": [
    "# **Traffic Predictions**\n",
    "#### (by David Smolinski)\n",
    "___\n",
    "<br>\n",
    "\n",
    "### **Skills this adds to my portfolio:**\n",
    "- machine learning (linear regression)\n",
    "- seaborn\n",
    "- timestamp, datetime, time series\n",
    "___\n",
    "<br>\n",
    "\n",
    "### **Summary:**\n",
    "This program predicts the traffic rate for a road (Interstate 94 Westbound) at a location (DoT ATR station 301, Minnesota) based on temperature and cloudiness. The main goal was to have linear regression in my portfolio. Using this model is not much better than gessing the mean traffic because the standard deviation is not much greater than the RMSE (1987 vs 1964 entities/h).\n",
    "<br><br>\n",
    "\n",
    "Important variables and their units (See the dataset source page for more details.):\n",
    "\n",
    "Features (used to make predictions):\n",
    "- temp: temperature in degrees Kelvin\n",
    "- clouds_all: % cloud coverage\n",
    "\n",
    "Response (what we are trying to predict):\n",
    "- traffic_volume: the traffic rate in entities/h\n",
    "___\n",
    "<br>\n",
    "\n",
    "### **Links:**\n",
    "- [my portfolio](https://github.com/DavidSmolinski/portfolio/tree/master/table%20of%20contents)\n",
    "- [dataset source (UC Irvine Machine Learning Repository)](https://archive.ics.uci.edu/ml/datasets/Metro+Interstate+Traffic+Volume)\n",
    "- [the csv](https://archive.ics.uci.edu/ml/machine-learning-databases/00492/)\n",
    "- [Linkedin](https://www.linkedin.com/in/davidsmolinski)"
   ]
  },
  {
   "cell_type": "code",
   "execution_count": 3,
   "metadata": {},
   "outputs": [],
   "source": [
    "%matplotlib inline\n",
    "import requests, gzip, numpy as np, pandas as pd, seaborn as sns\n",
    "import matplotlib.pyplot as plt\n",
    "from io import BytesIO\n",
    "from sklearn.model_selection import train_test_split\n",
    "from sklearn.linear_model import LinearRegression\n",
    "from sklearn import metrics"
   ]
  },
  {
   "cell_type": "code",
   "execution_count": 4,
   "metadata": {},
   "outputs": [],
   "source": [
    "url = (r\"https://archive.ics.uci.edu/ml/machine-learning-databases/00492/\"\n",
    "       r\"Metro_Interstate_Traffic_Volume.csv.gz\")\n",
    "response = requests.get(url)\n",
    "csv_gz_file = response.content\n",
    "f = BytesIO(csv_gz_file)\n",
    "with gzip.GzipFile(fileobj=f) as csv:\n",
    "    df = pd.read_csv(csv, delimiter=',')"
   ]
  },
  {
   "cell_type": "code",
   "execution_count": 5,
   "metadata": {},
   "outputs": [
    {
     "data": {
      "text/html": [
       "<div>\n",
       "<style scoped>\n",
       "    .dataframe tbody tr th:only-of-type {\n",
       "        vertical-align: middle;\n",
       "    }\n",
       "\n",
       "    .dataframe tbody tr th {\n",
       "        vertical-align: top;\n",
       "    }\n",
       "\n",
       "    .dataframe thead th {\n",
       "        text-align: right;\n",
       "    }\n",
       "</style>\n",
       "<table border=\"1\" class=\"dataframe\">\n",
       "  <thead>\n",
       "    <tr style=\"text-align: right;\">\n",
       "      <th></th>\n",
       "      <th>temp</th>\n",
       "      <th>rain_1h</th>\n",
       "      <th>snow_1h</th>\n",
       "      <th>clouds_all</th>\n",
       "      <th>traffic_volume</th>\n",
       "    </tr>\n",
       "  </thead>\n",
       "  <tbody>\n",
       "    <tr>\n",
       "      <th>count</th>\n",
       "      <td>48204.000000</td>\n",
       "      <td>48204.000000</td>\n",
       "      <td>48204.000000</td>\n",
       "      <td>48204.000000</td>\n",
       "      <td>48204.000000</td>\n",
       "    </tr>\n",
       "    <tr>\n",
       "      <th>mean</th>\n",
       "      <td>281.205870</td>\n",
       "      <td>0.334264</td>\n",
       "      <td>0.000222</td>\n",
       "      <td>49.362231</td>\n",
       "      <td>3259.818355</td>\n",
       "    </tr>\n",
       "    <tr>\n",
       "      <th>std</th>\n",
       "      <td>13.338232</td>\n",
       "      <td>44.789133</td>\n",
       "      <td>0.008168</td>\n",
       "      <td>39.015750</td>\n",
       "      <td>1986.860670</td>\n",
       "    </tr>\n",
       "    <tr>\n",
       "      <th>min</th>\n",
       "      <td>0.000000</td>\n",
       "      <td>0.000000</td>\n",
       "      <td>0.000000</td>\n",
       "      <td>0.000000</td>\n",
       "      <td>0.000000</td>\n",
       "    </tr>\n",
       "    <tr>\n",
       "      <th>25%</th>\n",
       "      <td>272.160000</td>\n",
       "      <td>0.000000</td>\n",
       "      <td>0.000000</td>\n",
       "      <td>1.000000</td>\n",
       "      <td>1193.000000</td>\n",
       "    </tr>\n",
       "    <tr>\n",
       "      <th>50%</th>\n",
       "      <td>282.450000</td>\n",
       "      <td>0.000000</td>\n",
       "      <td>0.000000</td>\n",
       "      <td>64.000000</td>\n",
       "      <td>3380.000000</td>\n",
       "    </tr>\n",
       "    <tr>\n",
       "      <th>75%</th>\n",
       "      <td>291.806000</td>\n",
       "      <td>0.000000</td>\n",
       "      <td>0.000000</td>\n",
       "      <td>90.000000</td>\n",
       "      <td>4933.000000</td>\n",
       "    </tr>\n",
       "    <tr>\n",
       "      <th>max</th>\n",
       "      <td>310.070000</td>\n",
       "      <td>9831.300000</td>\n",
       "      <td>0.510000</td>\n",
       "      <td>100.000000</td>\n",
       "      <td>7280.000000</td>\n",
       "    </tr>\n",
       "  </tbody>\n",
       "</table>\n",
       "</div>"
      ],
      "text/plain": [
       "               temp       rain_1h       snow_1h    clouds_all  traffic_volume\n",
       "count  48204.000000  48204.000000  48204.000000  48204.000000    48204.000000\n",
       "mean     281.205870      0.334264      0.000222     49.362231     3259.818355\n",
       "std       13.338232     44.789133      0.008168     39.015750     1986.860670\n",
       "min        0.000000      0.000000      0.000000      0.000000        0.000000\n",
       "25%      272.160000      0.000000      0.000000      1.000000     1193.000000\n",
       "50%      282.450000      0.000000      0.000000     64.000000     3380.000000\n",
       "75%      291.806000      0.000000      0.000000     90.000000     4933.000000\n",
       "max      310.070000   9831.300000      0.510000    100.000000     7280.000000"
      ]
     },
     "execution_count": 5,
     "metadata": {},
     "output_type": "execute_result"
    }
   ],
   "source": [
    "df.describe()"
   ]
  },
  {
   "cell_type": "code",
   "execution_count": 7,
   "metadata": {},
   "outputs": [
    {
     "name": "stdout",
     "output_type": "stream",
     "text": [
      "df shape: (48204, 9)\n"
     ]
    },
    {
     "data": {
      "text/html": [
       "<div>\n",
       "<style scoped>\n",
       "    .dataframe tbody tr th:only-of-type {\n",
       "        vertical-align: middle;\n",
       "    }\n",
       "\n",
       "    .dataframe tbody tr th {\n",
       "        vertical-align: top;\n",
       "    }\n",
       "\n",
       "    .dataframe thead th {\n",
       "        text-align: right;\n",
       "    }\n",
       "</style>\n",
       "<table border=\"1\" class=\"dataframe\">\n",
       "  <thead>\n",
       "    <tr style=\"text-align: right;\">\n",
       "      <th></th>\n",
       "      <th>holiday</th>\n",
       "      <th>temp</th>\n",
       "      <th>rain_1h</th>\n",
       "      <th>snow_1h</th>\n",
       "      <th>clouds_all</th>\n",
       "      <th>weather_main</th>\n",
       "      <th>weather_description</th>\n",
       "      <th>date_time</th>\n",
       "      <th>traffic_volume</th>\n",
       "    </tr>\n",
       "  </thead>\n",
       "  <tbody>\n",
       "    <tr>\n",
       "      <th>0</th>\n",
       "      <td>None</td>\n",
       "      <td>288.28</td>\n",
       "      <td>0.0</td>\n",
       "      <td>0.0</td>\n",
       "      <td>40</td>\n",
       "      <td>Clouds</td>\n",
       "      <td>scattered clouds</td>\n",
       "      <td>2012-10-02 09:00:00</td>\n",
       "      <td>5545</td>\n",
       "    </tr>\n",
       "  </tbody>\n",
       "</table>\n",
       "</div>"
      ],
      "text/plain": [
       "  holiday    temp  rain_1h  snow_1h  clouds_all weather_main  \\\n",
       "0    None  288.28      0.0      0.0          40       Clouds   \n",
       "\n",
       "  weather_description            date_time  traffic_volume  \n",
       "0    scattered clouds  2012-10-02 09:00:00            5545  "
      ]
     },
     "execution_count": 7,
     "metadata": {},
     "output_type": "execute_result"
    }
   ],
   "source": [
    "pd.set_option('display.max_columns', None)\n",
    "print(f'df shape: {df.shape}')\n",
    "df.head(1)"
   ]
  },
  {
   "cell_type": "markdown",
   "metadata": {},
   "source": [
    "If we plotted all elements, the scatter plots would be crowded, and we wouldn't be able to see separate dots. I plotted average values for each month (12 dots/plot)."
   ]
  },
  {
   "cell_type": "code",
   "execution_count": 8,
   "metadata": {},
   "outputs": [
    {
     "name": "stdout",
     "output_type": "stream",
     "text": [
      "The dataset covers this amount of time: 2189 days 14:00:00\n",
      "\n"
     ]
    },
    {
     "data": {
      "text/plain": [
       "<seaborn.axisgrid.PairGrid at 0x531a7b8>"
      ]
     },
     "execution_count": 8,
     "metadata": {},
     "output_type": "execute_result"
    },
    {
     "data": {
      "image/png": "[encoded data removed]",
      "text/plain": [
       "<Figure size 1440x360 with 4 Axes>"
      ]
     },
     "metadata": {
      "needs_background": "light"
     },
     "output_type": "display_data"
    }
   ],
   "source": [
    "df['date_time'] = pd.to_datetime(df.date_time)\n",
    "print(f'The dataset covers this amount of time: '\n",
    "      f'{df.date_time.max()-df.date_time.min()}\\n')\n",
    "\n",
    "# Scatter plots with 48204 dots would be hard to read.\n",
    "# I made a new dataframe with 1 row for each month and plotted that.\n",
    "df['month'] = df.date_time.dt.month\n",
    "month_averages_df = df.groupby('month').mean()\n",
    "potential_features = ['temp',  'rain_1h',  'snow_1h',  'clouds_all']\n",
    "sns.pairplot(month_averages_df, x_vars=potential_features,\n",
    "             y_vars='traffic_volume', height=5, aspect=1., kind='reg')"
   ]
  },
  {
   "cell_type": "markdown",
   "metadata": {},
   "source": [
    "We want features with a linear relationship to \"traffic_volume\" (\"temp\" and \"clouds_all\")."
   ]
  },
  {
   "cell_type": "code",
   "execution_count": 9,
   "metadata": {},
   "outputs": [
    {
     "name": "stdout",
     "output_type": "stream",
     "text": [
      "Absolute correlations of features to the target(higher is better): [('temp', 0.13029879817112666), ('rain_1h', 0.004713702367859206), ('snow_1h', 0.0007334345358283909), ('clouds_all', 0.06705377704283508)]\n"
     ]
    }
   ],
   "source": [
    "correlations_to_traffic_volume = [\n",
    "    (x, abs(df['traffic_volume'].corr(df[x]))) for x in potential_features]\n",
    "print(f'Absolute correlations of features to the target'\n",
    "      f'(higher is better): {correlations_to_traffic_volume}')"
   ]
  },
  {
   "cell_type": "markdown",
   "metadata": {},
   "source": [
    "\"temp\" and \"clouds_all\" also have > 10 times better correlation to \"traffic_volume\" than the other features. I am choosing them as features."
   ]
  },
  {
   "cell_type": "code",
   "execution_count": 10,
   "metadata": {},
   "outputs": [],
   "source": [
    "linreg = LinearRegression()\n",
    "feature_cols = ['temp', 'clouds_all']\n",
    "x = df[feature_cols]\n",
    "target_col = 'traffic_volume'\n",
    "y = df[target_col]\n",
    "\n",
    "x_train, x_test, y_train, y_test = train_test_split(\n",
    "    x, y, test_size=0.25, random_state=4)"
   ]
  },
  {
   "cell_type": "code",
   "execution_count": 11,
   "metadata": {},
   "outputs": [
    {
     "name": "stdout",
     "output_type": "stream",
     "text": [
      "Error (E):\n",
      "MAE (mean abs. E): 1714\n",
      "MSE (mean squared E): 3857773\n",
      "RMSE (root MSE): 1964\n"
     ]
    }
   ],
   "source": [
    "linreg.fit(x_train, y_train)\n",
    "y_pred = linreg.predict(x_test)\n",
    "print('Error (E):')\n",
    "print(f'MAE (mean abs. E): {metrics.mean_absolute_error(y_test,y_pred):.0f}')\n",
    "print(f'MSE (mean squared E): {metrics.mean_squared_error(y_test,y_pred):.0f}')\n",
    "print(f'RMSE (root MSE): '\n",
    "      f'{np.sqrt(metrics.mean_squared_error(y_test,y_pred)):.0f}')"
   ]
  },
  {
   "cell_type": "code",
   "execution_count": 12,
   "metadata": {},
   "outputs": [
    {
     "name": "stdout",
     "output_type": "stream",
     "text": [
      "prediction equation: traffic_volume = 20.643(temp) + 4.134(clouds_all) + -2749.061\n"
     ]
    }
   ],
   "source": [
    "linreg.fit(x, y)\n",
    "y_intercept = linreg.intercept_\n",
    "feature_coefs = linreg.coef_\n",
    "print(f'prediction equation: {target_col} = '\n",
    "      f'{feature_coefs[0]:.3f}({feature_cols[0]}) + '\n",
    "      f'{feature_coefs[1]:.3f}({feature_cols[1]}) + {y_intercept:.3f}')"
   ]
  },
  {
   "cell_type": "code",
   "execution_count": 13,
   "metadata": {},
   "outputs": [
    {
     "name": "stdout",
     "output_type": "stream",
     "text": [
      "predicted traffic when it is 305 Kelvin and 0% cloudy:\n",
      "3547 entities/h\n"
     ]
    }
   ],
   "source": [
    "# I'm making up a fake situation where there is lots of traffic because it is\n",
    "# hot and not cloudy.\n",
    "temp_k = 305\n",
    "percent_cloudy = 0\n",
    "situation = [temp_k, percent_cloudy]\n",
    "print(f'predicted traffic when it is {temp_k} Kelvin and {percent_cloudy}% '\n",
    "      f'cloudy:\\n{linreg.predict([situation])[0]:.0f} entities/h')"
   ]
  },
  {
   "cell_type": "code",
   "execution_count": null,
   "metadata": {},
   "outputs": [],
   "source": []
  }
 ],
 "metadata": {
  "kernelspec": {
   "display_name": "Python 3",
   "language": "python",
   "name": "python3"
  },
  "language_info": {
   "codemirror_mode": {
    "name": "ipython",
    "version": 3
   },
   "file_extension": ".py",
   "mimetype": "text/x-python",
   "name": "python",
   "nbconvert_exporter": "python",
   "pygments_lexer": "ipython3",
   "version": "3.7.3"
  }
 },
 "nbformat": 4,
 "nbformat_minor": 2
}
