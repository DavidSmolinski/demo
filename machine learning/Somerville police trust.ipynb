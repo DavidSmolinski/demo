{
 "cells": [
  {
   "cell_type": "markdown",
   "metadata": {},
   "source": [
    "# **Somerville police trust by David Smolinski**\n",
    "#### (by David Smolinski)\n",
    "___\n",
    "<br>\n",
    "\n",
    "### **Skills this adds to my portfolio:**\n",
    "- machine learning (classification)\n",
    "- logistic regression\n",
    "- train/test split\n",
    "___\n",
    "<br>\n",
    "\n",
    "### **Summary:**\n",
    "I made a model for predicting trust in the police in Somerville Massachusetts based on results from a survey. It uses the Somerville Happiness Survey Data Set. Accuracy was 0.38. This is 1.9 times more accurate than a prediction one would get from guessing the 1 to 5 police rating.\n",
    "\n",
    "Features (inputs):\n",
    "- Happiness: 0 (unhappy) and 1 (happy)\n",
    "- The following ratings with values of 1 to 5:\n",
    "    - the availability of information about the city services\n",
    "    - the cost of housing\n",
    "    - the overall quality of public schools\n",
    "    - the maintenance of streets and sidewalks\n",
    "    - the availability of social community events\n",
    "\n",
    "Response (prediction, output):\n",
    "- trust in the local police\n",
    "\n",
    "___\n",
    "<br>\n",
    "\n",
    "### **Links:**\n",
    "- [my portfolio](https://github.com/DavidSmolinski/portfolio/tree/master/table%20of%20contents)\n",
    "- [dataset source (UC Irvine Machine Learning Repository)](https://archive.ics.uci.edu/ml/datasets/Somerville+Happiness+Survey)\n",
    "- [the csv](https://archive.ics.uci.edu/ml/machine-learning-databases/00479/SomervilleHappinessSurvey2015.csv)"
   ]
  },
  {
   "cell_type": "code",
   "execution_count": 1,
   "metadata": {},
   "outputs": [],
   "source": [
    "%matplotlib inline\n",
    "import pandas as pd\n",
    "from matplotlib import pyplot as plt\n",
    "from sklearn.neighbors import KNeighborsClassifier\n",
    "from sklearn.linear_model import LogisticRegression\n",
    "from sklearn.model_selection import GridSearchCV\n",
    "from sklearn.preprocessing import binarize\n",
    "from sklearn.metrics import confusion_matrix, roc_curve"
   ]
  },
  {
   "cell_type": "code",
   "execution_count": 2,
   "metadata": {},
   "outputs": [
    {
     "data": {
      "text/html": [
       "<div>\n",
       "<style scoped>\n",
       "    .dataframe tbody tr th:only-of-type {\n",
       "        vertical-align: middle;\n",
       "    }\n",
       "\n",
       "    .dataframe tbody tr th {\n",
       "        vertical-align: top;\n",
       "    }\n",
       "\n",
       "    .dataframe thead th {\n",
       "        text-align: right;\n",
       "    }\n",
       "</style>\n",
       "<table border=\"1\" class=\"dataframe\">\n",
       "  <thead>\n",
       "    <tr style=\"text-align: right;\">\n",
       "      <th></th>\n",
       "      <th>happy</th>\n",
       "      <th>info_avail</th>\n",
       "      <th>housing_cost</th>\n",
       "      <th>school_quality</th>\n",
       "      <th>trust_police</th>\n",
       "      <th>street_maint</th>\n",
       "      <th>event_avail</th>\n",
       "    </tr>\n",
       "  </thead>\n",
       "  <tbody>\n",
       "    <tr>\n",
       "      <th>0</th>\n",
       "      <td>0</td>\n",
       "      <td>3</td>\n",
       "      <td>3</td>\n",
       "      <td>3</td>\n",
       "      <td>4</td>\n",
       "      <td>2</td>\n",
       "      <td>4</td>\n",
       "    </tr>\n",
       "  </tbody>\n",
       "</table>\n",
       "</div>"
      ],
      "text/plain": [
       "   happy  info_avail  housing_cost  school_quality  trust_police  \\\n",
       "0      0           3             3               3             4   \n",
       "\n",
       "   street_maint  event_avail  \n",
       "0             2            4  "
      ]
     },
     "execution_count": 2,
     "metadata": {},
     "output_type": "execute_result"
    }
   ],
   "source": [
    "# # for finding file encoding\n",
    "# import chardet\n",
    "# with open(r'SomervilleHappinessSurvey2015.csv', 'rb') as f:\n",
    "#     result = chardet.detect(f.read())\n",
    "# result\n",
    "\n",
    "df = pd.read_csv(r'https://archive.ics.uci.edu/ml/machine-learning-databases/00479/' + \n",
    "                 r'SomervilleHappinessSurvey2015.csv', \n",
    "                 encoding=\"'UTF-16'\")\n",
    "df = df.rename(columns={'D':'happy', 'X1':'info_avail', 'X2':'housing_cost', 'X3':'school_quality', \n",
    "                        'X4':'trust_police', 'X5':'street_maint', 'X6':'event_avail',})\n",
    "df.head(1)"
   ]
  },
  {
   "cell_type": "code",
   "execution_count": 3,
   "metadata": {},
   "outputs": [],
   "source": [
    "# l = list(df.columns)\n",
    "\n",
    "features = ['happy',\n",
    "            'info_avail',\n",
    "            'housing_cost',\n",
    "            'school_quality',\n",
    "            'street_maint',\n",
    "            'event_avail']\n",
    "x = df[features]\n",
    "y = df.trust_police"
   ]
  },
  {
   "cell_type": "code",
   "execution_count": 4,
   "metadata": {},
   "outputs": [],
   "source": [
    "from sklearn.metrics import accuracy_score\n",
    "from sklearn.model_selection import train_test_split\n",
    "X_train, X_test, y_train, y_test = train_test_split(x, y, test_size=0.4, random_state=4)"
   ]
  },
  {
   "cell_type": "code",
   "execution_count": 5,
   "metadata": {},
   "outputs": [
    {
     "data": {
      "text/plain": [
       "0.3620689655172414"
      ]
     },
     "execution_count": 5,
     "metadata": {},
     "output_type": "execute_result"
    }
   ],
   "source": [
    "logreg = LogisticRegression(solver='lbfgs', multi_class='auto', max_iter=3000)\n",
    "# logreg = LogisticRegression(solver='liblinear', multi_class='auto')\n",
    "\n",
    "logreg.fit(X_train, y_train)\n",
    "logreg_accuracy = accuracy_score(y_test, logreg.predict(X_test))\n",
    "logreg_accuracy"
   ]
  },
  {
   "cell_type": "code",
   "execution_count": 6,
   "metadata": {},
   "outputs": [
    {
     "data": {
      "text/plain": [
       "(0.3793103448275862, 0.3448275862068966)"
      ]
     },
     "execution_count": 6,
     "metadata": {},
     "output_type": "execute_result"
    }
   ],
   "source": [
    "def knn_accuracy(k_vals):\n",
    "    scores = ()\n",
    "    for k in k_vals:\n",
    "        knn = KNeighborsClassifier(n_neighbors=k)\n",
    "        knn.fit(X_train, y_train)\n",
    "        y_pred = knn.predict(X_test)\n",
    "        scores += (accuracy_score(y_test, y_pred),)\n",
    "    return scores\n",
    "    \n",
    "    \n",
    "knn_accuracy(k_vals=(1,5))"
   ]
  },
  {
   "cell_type": "code",
   "execution_count": 8,
   "metadata": {},
   "outputs": [
    {
     "data": {
      "text/plain": [
       "Text(0, 0.5, 'Accuracy')"
      ]
     },
     "execution_count": 8,
     "metadata": {},
     "output_type": "execute_result"
    },
    {
     "data": {
      "image/png": "[encoded data removed]",
      "text/plain": [
       "<Figure size 432x288 with 1 Axes>"
      ]
     },
     "metadata": {
      "needs_background": "light"
     },
     "output_type": "display_data"
    }
   ],
   "source": [
    "k_vals = tuple(range(1, 10))\n",
    "plt.plot(k_vals, knn_accuracy(k_vals=k_vals))\n",
    "plt.title('KNN Accuracy For Different K Values')\n",
    "plt.xlabel('K')\n",
    "plt.ylabel('Accuracy')"
   ]
  },
  {
   "cell_type": "code",
   "execution_count": 9,
   "metadata": {},
   "outputs": [],
   "source": [
    "# # predictions for the test set\n",
    "# knn = KNeighborsClassifier(n_neighbors=1)\n",
    "# knn.fit(X_train, y_train)\n",
    "# knn.predict(X_test)"
   ]
  },
  {
   "cell_type": "markdown",
   "metadata": {},
   "source": [
    "I fit the dataset with the most accurate params."
   ]
  },
  {
   "cell_type": "code",
   "execution_count": 10,
   "metadata": {},
   "outputs": [
    {
     "data": {
      "text/plain": [
       "KNeighborsClassifier(algorithm='auto', leaf_size=30, metric='minkowski',\n",
       "                     metric_params=None, n_jobs=None, n_neighbors=1, p=2,\n",
       "                     weights='uniform')"
      ]
     },
     "execution_count": 10,
     "metadata": {},
     "output_type": "execute_result"
    }
   ],
   "source": [
    "knn = KNeighborsClassifier(n_neighbors=1)\n",
    "knn.fit(x, y)"
   ]
  },
  {
   "cell_type": "markdown",
   "metadata": {},
   "source": [
    "Predicting trust in police based on a made up ratings list in this format:\n",
    "\n",
    "\\[happy, info_avail, housing_cost, school_quality, street_maint, event_avail\\]"
   ]
  },
  {
   "cell_type": "code",
   "execution_count": 11,
   "metadata": {},
   "outputs": [
    {
     "name": "stdout",
     "output_type": "stream",
     "text": [
      "Rating (1 to 5) for trust in police: 5\n"
     ]
    }
   ],
   "source": [
    "ratings = [1, 2, 3, 4, 5, 1]\n",
    "prediction = knn.predict([ratings])\n",
    "print(f'Rating (1 to 5) for trust in police: {prediction[0]}')"
   ]
  }
 ],
 "metadata": {
  "kernelspec": {
   "display_name": "Python 3",
   "language": "python",
   "name": "python3"
  },
  "language_info": {
   "codemirror_mode": {
    "name": "ipython",
    "version": 3
   },
   "file_extension": ".py",
   "mimetype": "text/x-python",
   "name": "python",
   "nbconvert_exporter": "python",
   "pygments_lexer": "ipython3",
   "version": "3.7.3"
  }
 },
 "nbformat": 4,
 "nbformat_minor": 2
}
